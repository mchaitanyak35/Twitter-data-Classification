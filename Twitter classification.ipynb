{
 "cells": [
  {
   "cell_type": "markdown",
   "metadata": {},
   "source": [
    "# Twitter data Classification"
   ]
  },
  {
   "cell_type": "markdown",
   "metadata": {},
   "source": [
    "Steps to model the twitter data classification:\n",
    "    1. Import the necessary modules\n",
    "    2. Load the twitter data and remove duplicate tweets\n",
    "    3. Clean the tweets\n",
    "    4. Split the train and test data\n",
    "    5. Prepare Pipeline to vectorize, transform the data and specify the model to train\n",
    "    6. Apply the trained model to test data and calculate accuracy"
   ]
  },
  {
   "cell_type": "markdown",
   "metadata": {},
   "source": [
    "### 1.Import the necessary modules"
   ]
  },
  {
   "cell_type": "code",
   "execution_count": 1,
   "metadata": {
    "collapsed": true
   },
   "outputs": [],
   "source": [
    "import nltk\n",
    "import string\n",
    "import pandas as pd\n",
    "import numpy as np\n",
    "from nltk.corpus import stopwords\n",
    "from nltk.stem import PorterStemmer\n",
    "from sklearn.model_selection import train_test_split\n",
    "from sklearn.feature_extraction.text import CountVectorizer\n",
    "from sklearn.feature_extraction.text import TfidfTransformer\n",
    "from sklearn.pipeline import Pipeline\n",
    "from sklearn.naive_bayes import MultinomialNB"
   ]
  },
  {
   "cell_type": "markdown",
   "metadata": {},
   "source": [
    "### 2.Load the twitter data and remove duplicate tweets"
   ]
  },
  {
   "cell_type": "code",
   "execution_count": 2,
   "metadata": {
    "scrolled": true
   },
   "outputs": [
    {
     "name": "stdout",
     "output_type": "stream",
     "text": [
      "(23516, 4)\n",
      "(20896, 4)\n"
     ]
    }
   ],
   "source": [
    "# loading the input csv file from local\n",
    "data = pd.read_csv('path_to_the_input_data')\n",
    "# printing the shape of input data\n",
    "print(data.shape)\n",
    "# removing duplicate tweets\n",
    "data=data.drop_duplicates(subset='Tweet')\n",
    "# printing the shape of data after removing duplicates\n",
    "print(data.shape)"
   ]
  },
  {
   "cell_type": "markdown",
   "metadata": {
    "scrolled": true
   },
   "source": [
    "### 3.Clean the tweets"
   ]
  },
  {
   "cell_type": "code",
   "execution_count": 3,
   "metadata": {},
   "outputs": [],
   "source": [
    "# cleaing the tweets\n",
    "def clean_doc(tweet):\n",
    "    # initializing the empty list called tokens\n",
    "    tokens=[]\n",
    "    # initializing the stemmer\n",
    "    stemmer = PorterStemmer()\n",
    "    # removing the punctuation marks from the lower cased tweet\n",
    "    translator = str.maketrans(string.punctuation, ' '*len(string.punctuation))\n",
    "    tweet = tweet.lower().translate(translator)\n",
    "    # sentence and word tokenizing the tweet\n",
    "    for sent in nltk.sent_tokenize(tweet):\n",
    "        tokens.extend(nltk.word_tokenize(sent))\n",
    "    # filtering the non alphanumeric word from tokens\n",
    "    tokens = [word for word in tokens if word.isalpha()]\n",
    "    # filtering stop words\n",
    "    stop_words = set(stopwords.words('english'))\n",
    "    tokens = [w for w in tokens if not w in stop_words]\n",
    "    # stemming the tokens\n",
    "    tokens = [stemmer.stem(word) for word in tokens]\n",
    "    # returing the tokens of the tweet as a string\n",
    "    return ' '.join(tokens)"
   ]
  },
  {
   "cell_type": "code",
   "execution_count": 4,
   "metadata": {
    "scrolled": true
   },
   "outputs": [],
   "source": [
    "# looping over all the tweets to clean\n",
    "for idx,row in data.iterrows():\n",
    "    data.set_value(idx,'Tweet',clean_doc(data.Tweet[idx]))\n",
    "#print(data[0:20])"
   ]
  },
  {
   "cell_type": "markdown",
   "metadata": {},
   "source": [
    "### 4.Split the train and test data"
   ]
  },
  {
   "cell_type": "code",
   "execution_count": 5,
   "metadata": {},
   "outputs": [],
   "source": [
    "# assigning the target variable and splitting the data into train and test\n",
    "y=data.ADR_label\n",
    "x_train, x_test, y_train, y_test = train_test_split(data.Tweet, y, test_size = 0.25, random_state = 53)"
   ]
  },
  {
   "cell_type": "markdown",
   "metadata": {},
   "source": [
    "### 5.Prepare Pipeline to vectorize, transform the data and specify the model to train"
   ]
  },
  {
   "cell_type": "markdown",
   "metadata": {},
   "source": [
    "Preparing the pipeline, using CountVectorizer to vectorize the bag of words, TfidfTransformer to apply tf and idf on the vectors and using the Multinomial Naives Bayes model"
   ]
  },
  {
   "cell_type": "code",
   "execution_count": 6,
   "metadata": {},
   "outputs": [],
   "source": [
    "# using the max_features parameter in COuntVectorizer and limiting it to 1500\n",
    "text_clf = Pipeline([('vect', CountVectorizer(max_features=1500)),\n",
    "                     ('tfidf', TfidfTransformer()),\n",
    "                     ('clf', MultinomialNB())])\n",
    "# training the model\n",
    "text_clf = text_clf.fit(x_train, y_train)"
   ]
  },
  {
   "cell_type": "markdown",
   "metadata": {},
   "source": [
    "### 6.Apply the trained model to test data and calculate accuracy"
   ]
  },
  {
   "cell_type": "code",
   "execution_count": 10,
   "metadata": {},
   "outputs": [
    {
     "name": "stdout",
     "output_type": "stream",
     "text": [
      "The accuracy of the model is :  83.7672281776\n"
     ]
    }
   ],
   "source": [
    "# predicting the test data target variable\n",
    "predicted = text_clf.predict(x_test)\n",
    "# printing the acuracy\n",
    "print(\"The accuracy of the model is : \",np.mean(predicted == y_test)*100)"
   ]
  },
  {
   "cell_type": "code",
   "execution_count": null,
   "metadata": {
    "collapsed": true
   },
   "outputs": [],
   "source": []
  },
  {
   "cell_type": "code",
   "execution_count": null,
   "metadata": {
    "collapsed": true
   },
   "outputs": [],
   "source": []
  }
 ],
 "metadata": {
  "kernelspec": {
   "display_name": "Python 3",
   "language": "python",
   "name": "python3"
  },
  "language_info": {
   "codemirror_mode": {
    "name": "ipython",
    "version": 3
   },
   "file_extension": ".py",
   "mimetype": "text/x-python",
   "name": "python",
   "nbconvert_exporter": "python",
   "pygments_lexer": "ipython3",
   "version": "3.6.1"
  }
 },
 "nbformat": 4,
 "nbformat_minor": 2
}
